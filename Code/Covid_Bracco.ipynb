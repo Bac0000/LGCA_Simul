{
 "cells": [
  {
   "cell_type": "markdown",
   "metadata": {},
   "source": [
    "# <center> **LGCA Simulations** </center>"
   ]
  },
  {
   "cell_type": "markdown",
   "metadata": {},
   "source": [
    "### Author: _Matteo Bracco_\n",
    "### Contacts  _matteo.bracco000@gmail.com_ \n",
    "\n",
    "<br>\n",
    "\n",
    "---"
   ]
  },
  {
   "cell_type": "markdown",
   "metadata": {},
   "source": [
    "##  **Introduction** \n",
    " This Notebook is designed to run simulation of the Lattice Gas Cellular Automata (LGCA) and Modified LGCA models, designed to incorporate spatial diffusion into epidemic spread. The original LGCA model was developed by [Schneckenreither et al.](https://doi.org/10.1016/j.simpat.2008.05.015).\n",
    "\n",
    "\n",
    "The functions which I defined to run LGCA and Modified LGCA simulations can be found in [this](./LGCA.py) python file.\n",
    "### **LGCA Model** \n",
    "\n",
    " In the LGCA model, a population of size $N$ is initially spread across an hexagonal lattice, where the number of grids matches the population size.\n",
    " The initial distribution has to be choose to allows for a maximum of $6$ individuals per cell. At each time step, individuals move to one of the six neighboring cells, individuals which share the same cell can't share the same path. In the border of the grid, the PacMan effect is incorporated. This ensures that at each time step, a maximum of $6$ individuals is found in each cell.\n",
    "\n",
    " Each individual can assume one of three states, as in the classical SIR model: Susceptible (S), Infected (I) and Removed (R). Infections can only happen inside the same cell, each individual with state $S$ has probability $\\beta_{LG}$ of being infected by individuals with state $I$ of the same cell. Every individual of state $I$ can can pass to the state $R$ with a probability $\\gamma$.\n",
    "\n",
    " Let $N$ be the size of the population, it is possible to show that to model the same dynamic, the rate $\\beta_{LG}$ is directly linked to the classical SIR $\\beta_{SIR}$ rate by \n",
    " $$\\beta_{LG}=\\beta \\cdot N $$\n",
    "The recovery rate $\\gamma$ is instead the same as the SIR recovery rate.\n",
    "\n",
    "\n",
    "### **Modified LGCA** \n",
    "The restrictive laws of motion imported from statistical mechanic are not necessarily justified in epidemic models. The modified LGCA version removes restrictions on the law of motions, allowing individuals to move freely on a Squared lattice, between $9$ neighboring cells, which include the original cell itself. The border of the lattice do not allow for the PacMan effect, but instead the number of neighboring cell is reduced in such scenarios.\n",
    "\n",
    "At each time step, each individuals moves randomly to a neighboring cells. The epidemic rules are not touched. \n",
    "\n",
    "This approach allows us to consider lattice with different dimensions with repsect to the population size, as we will see this will be the biggest advantage of this approach."
   ]
  },
  {
   "cell_type": "code",
   "execution_count": null,
   "metadata": {},
   "outputs": [],
   "source": [
    "from LGCA import *\n",
    "import pickle\n",
    "from math import sqrt"
   ]
  },
  {
   "cell_type": "markdown",
   "metadata": {},
   "source": [
    "## **LGCA Simulations**\n",
    "Here we run an LGCA Simulation, the parameters we use where derived in the corresponding [R Notebook](./Notebook_R0.Rmd), from Covid-19 data in Kodiak Island, Alaska. "
   ]
  },
  {
   "cell_type": "code",
   "execution_count": null,
   "metadata": {},
   "outputs": [],
   "source": [
    "\n",
    "# Real Population Size\n",
    "N=13100\n",
    "dim=int(sqrt(N))\n",
    "# Adjusted Population Size for squared grid\n",
    "M=dim**2\n",
    "\n",
    "# Gamma and Beta Parameters\n",
    "gamma=1/6.5\n",
    "beta=0.34588132363107\n",
    "\n",
    "# Initial Values\n",
    "I0=15\n",
    "S0=M-I0 \n",
    "\n",
    "#Simulation\n",
    "res=LGCA(M,beta,gamma,S0,I0)\n",
    "\n",
    "import pickle\n",
    "incid100=find_incid(res)\n",
    "f = open('LGCAv4.pckl', 'wb')\n",
    "pickle.dump(incid100, f)\n",
    "f.close()"
   ]
  },
  {
   "cell_type": "markdown",
   "metadata": {},
   "source": [
    "## **Modified LGCA Simulations**\n",
    "\n",
    "### **Differen Lattice Size**\n",
    "Here we run simulations for the modified LGCA model, with different lattice sizes.\n",
    "We use squared lattice with base $10\\cdot k,\\quad k=1,\\dots ,12$."
   ]
  },
  {
   "cell_type": "code",
   "execution_count": null,
   "metadata": {},
   "outputs": [],
   "source": [
    "\n",
    "gamma=1/6.5\n",
    "beta=0.34588132363107/N\n",
    "I0=15\n",
    "S0=N-I0\n",
    "\n",
    "history_incid=[]\n",
    "for k in range(1,13):\n",
    "   M=k*10\n",
    "   print(M)\n",
    "   parz=Modified_LGCA(M,beta,gamma,S0,I0,0)\n",
    "   incid=find_incid(parz)\n",
    "   history_incid.append(incid)\n",
    "\n",
    "\n",
    "f = open('modified10v4.pckl', 'wb')\n",
    "pickle.dump(history_incid, f)\n",
    "f.close()\n"
   ]
  },
  {
   "cell_type": "markdown",
   "metadata": {},
   "source": [
    "### **Repeated Simulation**\n",
    "As we can see in the [R Notebook](./Notebook_R0.Rmd), the most promising simulations where found for middle sized lattices. We then run $30$ simulations with a lattice base of length $80$, to balance stochastic noise.\n"
   ]
  },
  {
   "cell_type": "code",
   "execution_count": null,
   "metadata": {},
   "outputs": [],
   "source": [
    "\n",
    "history_incid=[]\n",
    "for k in range(1,30):\n",
    "   parz=Modified_LGCA(80,beta,gamma,S0,I0,0)\n",
    "   incid=find_incid(parz)\n",
    "   history_incid.append(incid)\n",
    "\n",
    "\n",
    "f = open('v40.pckl', 'wb')\n",
    "pickle.dump(history_incid, f)\n",
    "f.close()"
   ]
  },
  {
   "cell_type": "markdown",
   "metadata": {},
   "source": [
    "# **References**\n",
    "\n",
    "* Schneckenreither, Gunter and Popper, Nikolas and Zauner, Gunther and Breitenecker, Felix. *Modelling SIR-type epidemics by ODEs, PDEs, difference equations and cellular automata--A comparative study*. Simulation Modelling Practice and Theory 16(8)1014-1023 2008. https://doi.org/10.1016/j.simpat.2008.05.015\n",
    "\n",
    "\n",
    "* Junling Ma. *Estimating epidemic exponential growth rate and basic reproduction number* Infectious Disease Modelling 5:129-141 2020. https://doi.org/10.1016/j.idm.2019.12.009"
   ]
  }
 ],
 "metadata": {
  "kernelspec": {
   "display_name": "Python 3",
   "language": "python",
   "name": "python3"
  },
  "language_info": {
   "codemirror_mode": {
    "name": "ipython",
    "version": 3
   },
   "file_extension": ".py",
   "mimetype": "text/x-python",
   "name": "python",
   "nbconvert_exporter": "python",
   "pygments_lexer": "ipython3",
   "version": "3.10.3"
  }
 },
 "nbformat": 4,
 "nbformat_minor": 2
}
